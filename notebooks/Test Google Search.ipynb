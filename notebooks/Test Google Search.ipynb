{
 "cells": [
  {
   "cell_type": "code",
   "execution_count": 4,
   "id": "5cdb2e38-f98c-43b8-bbed-af44a55244ff",
   "metadata": {},
   "outputs": [],
   "source": [
    "import os\n",
    "from googleapiclient.discovery import build\n",
    "import pprint\n",
    "\n",
    "my_api_key = os.getenv(\"GTCSUMMARY_SEARCH_API_KEY\")\n",
    "my_cse_id = os.getenv(\"GTCSUMMARY_SEARCH_ENGINE_ID\")"
   ]
  },
  {
   "cell_type": "code",
   "execution_count": 5,
   "id": "bb5511bc-a065-483e-af95-d84b83804011",
   "metadata": {},
   "outputs": [
    {
     "name": "stdout",
     "output_type": "stream",
     "text": [
      "'kind'\n",
      "'url'\n",
      "'queries'\n",
      "'context'\n",
      "'searchInformation'\n",
      "'items'\n"
     ]
    }
   ],
   "source": [
    "def google_search(search_term, api_key, cse_id, **kwargs):\n",
    "    # This shit is $0.005 per call after 100 calls a day - so be cautious\n",
    "    service = build(\"customsearch\", \"v1\", developerKey=api_key)\n",
    "    res = service.cse().list(q=search_term, cx=cse_id, **kwargs).execute()\n",
    "    return res\n",
    "\n",
    "results = google_search(\n",
    "    'How To Write A CUDA Program: The Ninja Edition', \n",
    "    my_api_key, \n",
    "    my_cse_id, \n",
    "    num=5\n",
    ")\n",
    "\n",
    "for result in results:\n",
    "    pprint.pprint(result)"
   ]
  },
  {
   "cell_type": "code",
   "execution_count": 11,
   "id": "6cb78f89-6a30-4207-a0fd-dc00d6ce956a",
   "metadata": {},
   "outputs": [
    {
     "data": {
      "text/plain": [
       "'https://www.nvidia.com/en-us/on-demand/session/gtc24-s62401/?playlistId=playList-d59c3dc3-9e5a-404d-8725-4b567f4dfe77'"
      ]
     },
     "execution_count": 11,
     "metadata": {},
     "output_type": "execute_result"
    }
   ],
   "source": [
    "results['items'][0]['link']"
   ]
  },
  {
   "cell_type": "code",
   "execution_count": 10,
   "id": "1f63f214-7e75-4c1d-9818-2f542d2c023b",
   "metadata": {},
   "outputs": [
    {
     "data": {
      "text/plain": [
       "['How To Write A CUDA Program: The Ninja Edition | NVIDIA On ...',\n",
       " \"Developer Blog Series: Beginner 'CUDA Refresher' Tutorials ...\",\n",
       " '[QUESTION] How to specifiy CUDA version using Ninja on Windows ...',\n",
       " 'CUDA Refresher: The CUDA Programming Model | NVIDIA ...',\n",
       " 'Improve CUDA extension building experience · Issue #55267 ...']"
      ]
     },
     "execution_count": 10,
     "metadata": {},
     "output_type": "execute_result"
    }
   ],
   "source": [
    "titles = [i['title'] for i in results['items']]\n",
    "titles"
   ]
  },
  {
   "cell_type": "code",
   "execution_count": 34,
   "id": "2eb78694-5fe4-4ac5-813e-03eaa0cf303a",
   "metadata": {},
   "outputs": [
    {
     "data": {
      "text/plain": [
       "['The #1 AI Conference for Developers | GTC 2024 | NVIDIA',\n",
       " 'Robotics Conference Sessions | NVIDIA GTC 2024',\n",
       " 'GTC Generative AI Conference Sessions | NVIDIA GTC 2024',\n",
       " 'Generative AI Conference Sessions | NVIDIA GTC 2024',\n",
       " 'Large Language Models Conference Sessions | NVIDIA GTC 2024']"
      ]
     },
     "execution_count": 34,
     "metadata": {},
     "output_type": "execute_result"
    }
   ],
   "source": [
    "titles"
   ]
  },
  {
   "cell_type": "code",
   "execution_count": 35,
   "id": "fae2fd6f-d842-4343-8551-16a03c44c063",
   "metadata": {},
   "outputs": [
    {
     "data": {
      "text/plain": [
       "{'kind': 'customsearch#result',\n",
       " 'title': 'The #1 AI Conference for Developers | GTC 2024 | NVIDIA',\n",
       " 'htmlTitle': 'The #1 AI Conference for Developers | GTC 2024 | NVIDIA',\n",
       " 'link': 'https://www.nvidia.com/gtc/',\n",
       " 'displayLink': 'www.nvidia.com',\n",
       " 'snippet': 'Generally Capable Agents in Open-Ended Worlds. I believe in a future where everything that moves will eventually be autonomous. ChatGPT unifies all kinds of\\xa0...',\n",
       " 'htmlSnippet': '<b>Generally Capable Agents in Open-Ended Worlds</b>. I believe in a future where everything that moves will eventually be autonomous. ChatGPT unifies all kinds of&nbsp;...',\n",
       " 'cacheId': 'qTKK3PqKCBYJ',\n",
       " 'formattedUrl': 'https://www.nvidia.com/gtc/',\n",
       " 'htmlFormattedUrl': 'https://www.nvidia.com/gtc/',\n",
       " 'pagemap': {'cse_thumbnail': [{'src': 'https://encrypted-tbn0.gstatic.com/images?q=tbn:ANd9GcTHLr8YBft-lTcVZG_9a8MsXUI0cM47q3TgCEUiFQ_RtvHFPgl8uegA-fyD&s',\n",
       "    'width': '310',\n",
       "    'height': '163'}],\n",
       "  'imageobject': [{'contenturl': 'https://www.nvidia.com/content/nvidiaGDC/us/en_US/gtc/home/_jcr_content/root/responsivegrid/nv_container_9073869/nv_container_copy_94/nv_image.coreimg.100.1070.jpeg/1713897499535/gtc24-spring-web-homepage-jhh-1920x1400.jpeg'},\n",
       "   {'contenturl': 'https://www.nvidia.com/content/nvidiaGDC/us/en_US/gtc/home/_jcr_content/root/responsivegrid/nv_container_1270005_912290896/nv_carousel/item_1710514426826.coreimg.100.850.jpeg/1713897500926/gtc24-spring-web-hp-open-usd-thumbnail-1920x1080.jpeg'},\n",
       "   {'contenturl': 'https://www.nvidia.com/content/nvidiaGDC/us/en_US/gtc/home/_jcr_content/root/responsivegrid/nv_container_1270005_912290896/nv_carousel/nv_teaser_copy_copy.coreimg.100.850.jpeg/1713897500957/gtc24-spring-web-topic-thumbnail-generative-ai-2560x1440-1-.jpeg'},\n",
       "   {'contenturl': 'https://www.nvidia.com/content/nvidiaGDC/us/en_US/gtc/home/_jcr_content/root/responsivegrid/nv_container_1270005_912290896/nv_carousel/item_1708967214283.coreimg.100.850.jpeg/1713897501031/gtc24-spring-web-homepage-thumbnail-ai-driven-1920x1080.jpeg'},\n",
       "   {'contenturl': 'https://www.nvidia.com/content/nvidiaGDC/us/en_US/gtc/home/_jcr_content/root/responsivegrid/nv_container_1270005_912290896/nv_carousel/item_1704749388275.coreimg.100.850.jpeg/1713897501073/gtc24-spring-web-homepage-thumbnail-driving-innovation-1920x1080.jpeg'},\n",
       "   {'contenturl': 'https://www.nvidia.com/content/nvidiaGDC/us/en_US/gtc/home/_jcr_content/root/responsivegrid/nv_container_1270005_912290896/nv_carousel/item_1708967219172.coreimg.100.850.jpeg/1713897501108/gtc24-spring-web-homepage-thumbnail-the-role-of-gen-ai-1920x1080.jpeg'},\n",
       "   {'contenturl': 'https://www.nvidia.com/content/nvidiaGDC/us/en_US/gtc/home/_jcr_content/root/responsivegrid/nv_container_1270005_912290896/nv_carousel/item_1704749402255.coreimg.100.850.jpeg/1713897501141/gtc24-spring-web-homepage-thumbnail-regulating-ai-1920x1080.jpeg'},\n",
       "   {'contenturl': 'https://www.nvidia.com/content/nvidiaGDC/us/en_US/gtc/home/_jcr_content/root/responsivegrid/nv_container_1270005_912290896/nv_carousel/nv_teaser_copy_78688_1707498783.coreimg.100.850.jpeg/1713897501220/gtc24-spring-web-homepage-thumbnail-digitalizing-1920x1080.jpeg'},\n",
       "   {'contenturl': 'https://www.nvidia.com/content/nvidiaGDC/us/en_US/gtc/home/_jcr_content/root/responsivegrid/nv_container_1270005_912290896/nv_carousel/item_1708967222783.coreimg.100.850.jpeg/1713897501306/gtc24-spring-web-homepage-thumbnail-retrieval-augmented-1920x1080.jpeg'},\n",
       "   {'contenturl': 'https://www.nvidia.com/content/nvidiaGDC/us/en_US/gtc/home/_jcr_content/root/responsivegrid/nv_container_1270005_912290896/nv_carousel/item_1708967227294.coreimg.100.850.jpeg/1713897501336/gtc24-spring-web-homepage-thumbnail-ai-secrets-1920x1080.jpeg'},\n",
       "   {'contenturl': 'https://www.nvidia.com/content/nvidiaGDC/us/en_US/gtc/home/_jcr_content/root/responsivegrid/nv_container_1970673/nv_container_1006614/nv_teaser.coreimg.100.1070.jpeg/1713897501505/joelle-pineau-featured-800x800.jpeg'},\n",
       "   {'contenturl': 'https://www.nvidia.com/content/nvidiaGDC/us/en_US/gtc/home/_jcr_content/root/responsivegrid/nv_container_1970673/nv_container_1006614/nv_teaser_copy_20889.coreimg.100.1070.jpeg/1713897501528/brad-lightcap-featured-800x800.jpeg'},\n",
       "   {'contenturl': 'https://www.nvidia.com/content/nvidiaGDC/us/en_US/gtc/home/_jcr_content/root/responsivegrid/nv_container_1970673/nv_container_1006614/nv_teaser_copy_12365.coreimg.100.1070.jpeg/1713897501550/vincent-vanhoucke-featured-800x800.jpeg'},\n",
       "   {'contenturl': 'https://www.nvidia.com/content/nvidiaGDC/us/en_US/gtc/home/_jcr_content/root/responsivegrid/nv_container_1970673/nv_container_1006614/nv_teaser_copy_20889_1222380749.coreimg.100.1070.jpeg/1713897501577/fei-fei-li-featured-800x800.jpeg'},\n",
       "   {'contenturl': 'https://www.nvidia.com/content/nvidiaGDC/us/en_US/gtc/home/_jcr_content/root/responsivegrid/nv_container_1970673/nv_container_1006614_1243205361/nv_teaser_copy_20889_1850996481.coreimg.100.1070.jpeg/1713897501654/igor-babuschkin-featured-800x800.jpeg'},\n",
       "   {'contenturl': 'https://www.nvidia.com/content/nvidiaGDC/us/en_US/gtc/home/_jcr_content/root/responsivegrid/nv_container_1970673/nv_container_1006614_1243205361/nv_teaser_copy_20889_1711997789.coreimg.100.1070.jpeg/1713897501677/arthur-mensch-featured-800x800.jpeg'},\n",
       "   {'contenturl': 'https://www.nvidia.com/content/nvidiaGDC/us/en_US/gtc/home/_jcr_content/root/responsivegrid/nv_container_1970673/nv_container_1006614_1243205361/nv_teaser_copy_20889.coreimg.100.1070.jpeg/1713897501703/clara-shih-featured-800x800.jpeg'},\n",
       "   {'contenturl': 'https://www.nvidia.com/content/nvidiaGDC/us/en_US/gtc/home/_jcr_content/root/responsivegrid/nv_container_1970673/nv_container_1006614_1243205361/nv_teaser_1998207763.coreimg.100.1070.jpeg/1713897501726/sebastien-bubeck-featured-800x800.jpeg'},\n",
       "   {'contenturl': 'https://www.nvidia.com/content/nvidiaGDC/us/en_US/gtc/home/_jcr_content/root/responsivegrid/nv_container_2120958764/nv_container_copy/nv_image.coreimg.svg/1713897501940/gtc24-spring-partner-logo-aws-1250x703.svg'},\n",
       "   {'contenturl': 'https://www.nvidia.com/content/nvidiaGDC/us/en_US/gtc/home/_jcr_content/root/responsivegrid/nv_container_2120958764/nv_container_copy/nv_image_880310988.coreimg.svg/1713897501953/gtc24-spring-partner-logo-dell-technologies-1250x703.svg'},\n",
       "   {'contenturl': 'https://www.nvidia.com/content/nvidiaGDC/us/en_US/gtc/home/_jcr_content/root/responsivegrid/nv_container_2120958764/nv_container_copy/nv_image_1530615736.coreimg.svg/1713897501966/google-cloud-logo.svg'},\n",
       "   {'contenturl': 'https://www.nvidia.com/content/nvidiaGDC/us/en_US/gtc/home/_jcr_content/root/responsivegrid/nv_container_2120958764/nv_container_copy/nv_image_1530615736__84525220.coreimg.svg/1713897501979/gtc19-dc-partner-logo-hp-enterprise-1250x703.svg'},\n",
       "   {'contenturl': 'https://www.nvidia.com/content/nvidiaGDC/us/en_US/gtc/home/_jcr_content/root/responsivegrid/nv_container_2120958764/nv_container_copy/nv_image_1530615736_.coreimg.svg/1713897501992/gtc20-partner-logo-microsoft-azure.svg'},\n",
       "   {'contenturl': 'https://www.nvidia.com/content/nvidiaGDC/us/en_US/gtc/home/_jcr_content/root/responsivegrid/nv_container_2120958764/nv_container_copy/nv_image_1530615736__685331325.coreimg.svg/1713897502005/gtc24-spring-partner-logo-oracle-1250x703.svg'},\n",
       "   {'contenturl': 'https://www.nvidia.com/content/nvidiaGDC/us/en_US/gtc/home/_jcr_content/root/responsivegrid/nv_container_2120958764/nv_container_1637695/nv_container/nv_image.coreimg.svg/1713897502200/gtc24-spring-partner-logo-aivres-1250x703.svg'},\n",
       "   {'contenturl': 'https://www.nvidia.com/content/nvidiaGDC/us/en_US/gtc/home/_jcr_content/root/responsivegrid/nv_container_2120958764/nv_container_1637695/nv_container/nv_image_copy.coreimg.svg/1713897502214/gtc23-partner-logos-2-coreweave-1250x703.svg'},\n",
       "   {'contenturl': 'https://www.nvidia.com/content/nvidiaGDC/us/en_US/gtc/home/_jcr_content/root/responsivegrid/nv_container_2120958764/nv_container_1637695/nv_container/nv_image_880310988.coreimg.svg/1713897502228/gtc24-spring-partner-logo-ddn-1250x703.svg'},\n",
       "   {'contenturl': 'https://www.nvidia.com/content/nvidiaGDC/us/en_US/gtc/home/_jcr_content/root/responsivegrid/nv_container_2120958764/nv_container_1637695/nv_container/nv_image_1530615736.coreimg.svg/1713897502241/deloitte-logo.svg'},\n",
       "   {'contenturl': 'https://www.nvidia.com/content/nvidiaGDC/us/en_US/gtc/home/_jcr_content/root/responsivegrid/nv_container_2120958764/nv_container_1637695/nv_container/nv_image_1530615736_.coreimg.svg/1713897502255/gtc20-partner-logo-ey-beam-tag-stacked-1250x703.svg'},\n",
       "   {'contenturl': 'https://www.nvidia.com/content/nvidiaGDC/us/en_US/gtc/home/_jcr_content/root/responsivegrid/nv_container_2120958764/nv_container_1637695/nv_container/nv_image_1530615736__558844734.coreimg.svg/1713897502268/gtc23-logo-lambda-1250x703.svg'},\n",
       "   {'contenturl': 'https://www.nvidia.com/content/nvidiaGDC/us/en_US/gtc/home/_jcr_content/root/responsivegrid/nv_container_2120958764/nv_container_1637695/nv_container/nv_image_1530615736__938462633.coreimg.svg/1713897502282/lenovo-logo.svg'},\n",
       "   {'contenturl': 'https://www.nvidia.com/content/nvidiaGDC/us/en_US/gtc/home/_jcr_content/root/responsivegrid/nv_container_2120958764/nv_container_1637695/nv_container/nv_image_1530615736__476689941.coreimg.svg/1713897502295/gtc24-spring-partner-logo-qct-1250x703.svg'},\n",
       "   {'contenturl': 'https://www.nvidia.com/content/nvidiaGDC/us/en_US/gtc/home/_jcr_content/root/responsivegrid/nv_container_2120958764/nv_container_1637695/nv_container/nv_image_1530615736__1269239094.coreimg.svg/1713897502309/gtc24-spring-partner-logo-run-ai1-1250x703.svg'},\n",
       "   {'contenturl': 'https://www.nvidia.com/content/nvidiaGDC/us/en_US/gtc/home/_jcr_content/root/responsivegrid/nv_container_2120958764/nv_container_1637695/nv_container/nv_image_1530615736__921274894.coreimg.svg/1713897502322/supermicro-logo.svg'},\n",
       "   {'contenturl': 'https://www.nvidia.com/content/nvidiaGDC/us/en_US/gtc/home/_jcr_content/root/responsivegrid/nv_container_2120958764/nv_container_1637695/nv_container/nv_image_1530615736__2079800861.coreimg.svg/1713897502336/gtc24-spring-partner-logo-z-hp-1250x703.svg'},\n",
       "   {'contenturl': 'https://www.nvidia.com/content/nvidiaGDC/us/en_US/gtc/home/_jcr_content/root/responsivegrid/nv_container_2120958764/nv_container_1637695/nv_container/nv_image_1530615736__1410871973.coreimg.svg/1713897502349/gtc24-spring-partner-logo-zt-systems-1250x703.svg'},\n",
       "   {'contenturl': 'https://www.nvidia.com/content/nvidiaGDC/us/en_US/gtc/home/_jcr_content/root/responsivegrid/nv_modalcontainer_co/nv_container_copy_co/nv_teaser_copy.coreimg.svg/1713897504111/icon-facebook.svg'},\n",
       "   {'contenturl': 'https://www.nvidia.com/content/nvidiaGDC/us/en_US/gtc/home/_jcr_content/root/responsivegrid/nv_modalcontainer_co/nv_container_copy_co/nv_teaser_copy_copy_308739063.coreimg.svg/1713897504156/icon-linkedin.svg'},\n",
       "   {'contenturl': 'https://www.nvidia.com/content/nvidiaGDC/us/en_US/gtc/home/_jcr_content/root/responsivegrid/nv_modalcontainer_co/nv_container_copy_co/nv_teaser_copy_copy.coreimg.svg/1713897504188/icon-x-twitter-2.svg'}],\n",
       "  'Event': [{'image': 'https://blogs.nvidia.com/wp-content/uploads/2023/08/gtc-logo.jpg',\n",
       "    'endDate': '2024-03-21',\n",
       "    'eventStatus': 'http://schema.org/EventScheduled',\n",
       "    'name': 'GTC 2024: AI Conference for Developers',\n",
       "    'description': 'The #1 conference for developers, business',\n",
       "    'eventAttendanceMode': 'http://schema.org/MixedEventAttendanceMode',\n",
       "    'startDate': '2024-03-18'}],\n",
       "  'metatags': [{'og:image': 'https://www.nvidia.com/content/dam/en-zz/Solutions/gtc/social-image/gtc24-spring-web-homepage-on-demand-og-r12.jpg',\n",
       "    'og:type': 'Website',\n",
       "    'twitter:card': 'summary_large_image',\n",
       "    'twitter:title': 'The Premiere AI Conference: NVIDIA #GTC24',\n",
       "    'og:site_name': 'NVIDIA',\n",
       "    'nv-pub-date': '2024-04-23T18:38:24.000Z',\n",
       "    'ps-language': 'en',\n",
       "    'twitter:url': 'https://www.nvidia.com/gtc/',\n",
       "    'og:title': 'GTC 2024: #1 AI Conference',\n",
       "    'ps-country': 'US',\n",
       "    'og:description': 'Register now. Streamed online. March 18-21, 2024.',\n",
       "    'twitter:creator': '@NVIDIAGTC',\n",
       "    'twitter:image': 'https://www.nvidia.com/content/dam/en-zz/Solutions/gtc/social-image/gtc24-spring-web-homepage-on-demand-og-r12.jpg',\n",
       "    'fb:app_id': '1679326302390196',\n",
       "    'twitter:site': '@NVIDIA',\n",
       "    'viewport': 'width=device-width, initial-scale=1',\n",
       "    'twitter:description': 'Join us live at the San Jose Convention Center on March 18-21, 2024.',\n",
       "    'og:url': 'https://www.nvidia.com/gtc/',\n",
       "    'ps-key': '1781-57d9f03d015405367a598032'}],\n",
       "  'cse_image': [{'src': 'https://www.nvidia.com/content/dam/en-zz/Solutions/gtc/social-image/gtc24-spring-web-homepage-on-demand-og-r12.jpg'}]}}"
      ]
     },
     "execution_count": 35,
     "metadata": {},
     "output_type": "execute_result"
    }
   ],
   "source": [
    "results['items'][0]"
   ]
  }
 ],
 "metadata": {
  "kernelspec": {
   "display_name": "Python 3 (ipykernel)",
   "language": "python",
   "name": "python3"
  },
  "language_info": {
   "codemirror_mode": {
    "name": "ipython",
    "version": 3
   },
   "file_extension": ".py",
   "mimetype": "text/x-python",
   "name": "python",
   "nbconvert_exporter": "python",
   "pygments_lexer": "ipython3",
   "version": "3.11.9"
  }
 },
 "nbformat": 4,
 "nbformat_minor": 5
}
