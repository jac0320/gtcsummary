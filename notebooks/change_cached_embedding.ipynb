{
 "cells": [
  {
   "cell_type": "code",
   "execution_count": 6,
   "id": "5f5d262f-b41d-4307-bbbd-c98d8f9a5470",
   "metadata": {},
   "outputs": [
    {
     "name": "stderr",
     "output_type": "stream",
     "text": [
      "/Users/sitewang/.pyenv/versions/3.11.9/envs/gtcsummary/lib/python3.11/site-packages/tqdm/auto.py:21: TqdmWarning: IProgress not found. Please update jupyter and ipywidgets. See https://ipywidgets.readthedocs.io/en/stable/user_install.html\n",
      "  from .autonotebook import tqdm as notebook_tqdm\n"
     ]
    }
   ],
   "source": [
    "import pandas as pd\n",
    "from llama_index.embeddings.openai import OpenAIEmbedding\n",
    "embeddings = OpenAIEmbedding()"
   ]
  },
  {
   "cell_type": "code",
   "execution_count": 4,
   "id": "dfb9a1bd-2e88-46c4-9423-a1097bbc2cfb",
   "metadata": {},
   "outputs": [],
   "source": [
    "df = pd.read_json('talk_cleaned_titles_full.json', orient='index')"
   ]
  },
  {
   "cell_type": "code",
   "execution_count": 7,
   "id": "dd75f7ee-ddb3-4e47-bb10-1ee34d9b472a",
   "metadata": {},
   "outputs": [],
   "source": [
    "df['embds'] = df['Title'].apply(lambda x: embeddings.get_text_embedding(x))"
   ]
  },
  {
   "cell_type": "code",
   "execution_count": 10,
   "id": "0aacbc9a-af1e-4487-9e91-a2aef3668df0",
   "metadata": {},
   "outputs": [],
   "source": [
    "df.reset_index().rename(columns={\"index\": \"filename\"}).to_json('pdf_full.json')"
   ]
  }
 ],
 "metadata": {
  "kernelspec": {
   "display_name": "Python 3 (ipykernel)",
   "language": "python",
   "name": "python3"
  },
  "language_info": {
   "codemirror_mode": {
    "name": "ipython",
    "version": 3
   },
   "file_extension": ".py",
   "mimetype": "text/x-python",
   "name": "python",
   "nbconvert_exporter": "python",
   "pygments_lexer": "ipython3",
   "version": "3.11.9"
  }
 },
 "nbformat": 4,
 "nbformat_minor": 5
}
