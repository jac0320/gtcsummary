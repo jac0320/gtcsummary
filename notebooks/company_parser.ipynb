{
 "cells": [
  {
   "cell_type": "code",
   "execution_count": 1,
   "id": "bdfbba0b",
   "metadata": {},
   "outputs": [],
   "source": [
    "from bs4 import BeautifulSoup"
   ]
  },
  {
   "cell_type": "code",
   "execution_count": 2,
   "id": "f5139ca5",
   "metadata": {},
   "outputs": [
    {
     "name": "stdout",
     "output_type": "stream",
     "text": [
      "Found 297 companies.\n",
      "Total Words = 12873\n"
     ]
    }
   ],
   "source": [
    "# Function to parse the HTML file and extract the required sections\n",
    "def parse_html_file(file_path):\n",
    "    try:\n",
    "        # Open and read the HTML file\n",
    "        with open(file_path, 'r', encoding='utf-8') as file:\n",
    "            html_content = file.read()\n",
    "    except FileNotFoundError:\n",
    "        print(f\"The file at {file_path} was not found.\")\n",
    "        return []\n",
    "    except Exception as e:\n",
    "        print(f\"An error occurred: {e}\")\n",
    "        return []\n",
    "\n",
    "    # Parse the HTML content\n",
    "    soup = BeautifulSoup(html_content, 'html.parser')\n",
    "\n",
    "    # Initialize a list to store extracted data\n",
    "    extracted_data = []\n",
    "\n",
    "    # Find all <h4> tags with the 'rf-tile-title' class\n",
    "    h4_tags = soup.find_all('h4', class_='rf-tile-title')\n",
    "\n",
    "    for h4_tag in h4_tags:\n",
    "        \n",
    "        # Find the <a> tag within the <h4> tag\n",
    "        a_tag = h4_tag.find('a', tabindex=True)\n",
    "        \n",
    "        \n",
    "\n",
    "        if a_tag:\n",
    "            # Extract the text from the <a> tag\n",
    "            a_text = a_tag.get_text(strip=True)\n",
    "\n",
    "            # Find the next sibling <p> tag with the specified class\n",
    "            p_tag = h4_tag.find_next_sibling('p', class_='rf-tile-info rf-tile-line-one')\n",
    "\n",
    "            if p_tag:\n",
    "                # Extract the text from the <p> tag\n",
    "                p_text = p_tag.get_text(strip=True)\n",
    "\n",
    "                # Append the extracted texts to the list\n",
    "                extracted_data.append({'a_text': a_text, 'p_text': p_text})\n",
    "\n",
    "    return extracted_data\n",
    "\n",
    "# Replace 'your_html_file.html' with the path to your actual HTML file\n",
    "file_path = 'Sponsors _ GTC AI Conference 2024 _ NVIDIA.html'\n",
    "extracted_data = parse_html_file(file_path)\n",
    "\n",
    "\n",
    "# Print the extracted data\n",
    "company_entries = []\n",
    "if extracted_data:\n",
    "    print(f\"Found {len(extracted_data)} companies.\")\n",
    "    for data in extracted_data:\n",
    "        company_entries.append({'name': data['a_text'], 'description': data['p_text']})\n",
    "    print(f\"Total Words = {sum([len((i['name'] + i['description']).split(' ')) for i in company_entries])}\")\n",
    "else:\n",
    "    print(\"No data extracted. Please check your HTML structure.\")"
   ]
  },
  {
   "cell_type": "code",
   "execution_count": 8,
   "id": "8809b974-3532-43a8-ac4d-18bab37cd4cc",
   "metadata": {},
   "outputs": [],
   "source": [
    "import pandas as pd\n",
    "df = pd.DataFrame(company_entries)"
   ]
  },
  {
   "cell_type": "code",
   "execution_count": 9,
   "id": "230d8a55-be10-4132-ac85-ace2cec90996",
   "metadata": {},
   "outputs": [],
   "source": [
    "from llama_index.core.embeddings import resolve_embed_model\n",
    "embeddings = resolve_embed_model(\"local:BAAI/bge-small-en-v1.5\")"
   ]
  },
  {
   "cell_type": "code",
   "execution_count": 11,
   "id": "a4ef0a9b-a3f0-4ebe-8f5a-0c5d9e7f5b41",
   "metadata": {},
   "outputs": [],
   "source": [
    "df['embds'] = df['description'].apply(lambda x: embeddings.get_text_embedding(x))"
   ]
  },
  {
   "cell_type": "code",
   "execution_count": 12,
   "id": "c98addd0-9ba1-49e6-bca2-45d49fed8319",
   "metadata": {},
   "outputs": [
    {
     "data": {
      "text/html": [
       "<div>\n",
       "<style scoped>\n",
       "    .dataframe tbody tr th:only-of-type {\n",
       "        vertical-align: middle;\n",
       "    }\n",
       "\n",
       "    .dataframe tbody tr th {\n",
       "        vertical-align: top;\n",
       "    }\n",
       "\n",
       "    .dataframe thead th {\n",
       "        text-align: right;\n",
       "    }\n",
       "</style>\n",
       "<table border=\"1\" class=\"dataframe\">\n",
       "  <thead>\n",
       "    <tr style=\"text-align: right;\">\n",
       "      <th></th>\n",
       "      <th>name</th>\n",
       "      <th>description</th>\n",
       "      <th>embds</th>\n",
       "    </tr>\n",
       "  </thead>\n",
       "  <tbody>\n",
       "    <tr>\n",
       "      <th>0</th>\n",
       "      <td>Amazon Web Services, Inc.</td>\n",
       "      <td>Amazon Web Services (AWS) is the world’s most ...</td>\n",
       "      <td>[-0.01730053871870041, -0.09845656156539917, -...</td>\n",
       "    </tr>\n",
       "    <tr>\n",
       "      <th>1</th>\n",
       "      <td>Dell Technologies</td>\n",
       "      <td>Dell Technologies helps organizations and indi...</td>\n",
       "      <td>[-0.02326403744518757, -0.013126587495207787, ...</td>\n",
       "    </tr>\n",
       "    <tr>\n",
       "      <th>2</th>\n",
       "      <td>Google Cloud</td>\n",
       "      <td>Google Cloud accelerates every organization’s ...</td>\n",
       "      <td>[-0.01505018025636673, -0.0752713680267334, 0....</td>\n",
       "    </tr>\n",
       "    <tr>\n",
       "      <th>3</th>\n",
       "      <td>Hewlett Packard Enterprise</td>\n",
       "      <td>Hewlett Packard Enterprise is the global edge-...</td>\n",
       "      <td>[-0.016332194209098816, -0.03840653970837593, ...</td>\n",
       "    </tr>\n",
       "    <tr>\n",
       "      <th>4</th>\n",
       "      <td>Microsoft Azure</td>\n",
       "      <td>In this new era of AI, Microsoft is helping or...</td>\n",
       "      <td>[-0.027993276715278625, -0.0546172596514225, -...</td>\n",
       "    </tr>\n",
       "  </tbody>\n",
       "</table>\n",
       "</div>"
      ],
      "text/plain": [
       "                         name  \\\n",
       "0   Amazon Web Services, Inc.   \n",
       "1           Dell Technologies   \n",
       "2                Google Cloud   \n",
       "3  Hewlett Packard Enterprise   \n",
       "4             Microsoft Azure   \n",
       "\n",
       "                                         description  \\\n",
       "0  Amazon Web Services (AWS) is the world’s most ...   \n",
       "1  Dell Technologies helps organizations and indi...   \n",
       "2  Google Cloud accelerates every organization’s ...   \n",
       "3  Hewlett Packard Enterprise is the global edge-...   \n",
       "4  In this new era of AI, Microsoft is helping or...   \n",
       "\n",
       "                                               embds  \n",
       "0  [-0.01730053871870041, -0.09845656156539917, -...  \n",
       "1  [-0.02326403744518757, -0.013126587495207787, ...  \n",
       "2  [-0.01505018025636673, -0.0752713680267334, 0....  \n",
       "3  [-0.016332194209098816, -0.03840653970837593, ...  \n",
       "4  [-0.027993276715278625, -0.0546172596514225, -...  "
      ]
     },
     "execution_count": 12,
     "metadata": {},
     "output_type": "execute_result"
    }
   ],
   "source": [
    "df.head()"
   ]
  },
  {
   "cell_type": "code",
   "execution_count": 13,
   "id": "7986d952-e9d4-499d-b7ff-90100bbae2dc",
   "metadata": {},
   "outputs": [],
   "source": [
    "df.to_json('company_full.json')"
   ]
  }
 ],
 "metadata": {
  "kernelspec": {
   "display_name": "Python 3 (ipykernel)",
   "language": "python",
   "name": "python3"
  },
  "language_info": {
   "codemirror_mode": {
    "name": "ipython",
    "version": 3
   },
   "file_extension": ".py",
   "mimetype": "text/x-python",
   "name": "python",
   "nbconvert_exporter": "python",
   "pygments_lexer": "ipython3",
   "version": "3.11.9"
  }
 },
 "nbformat": 4,
 "nbformat_minor": 5
}
